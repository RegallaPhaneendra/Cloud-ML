{
  "nbformat": 4,
  "nbformat_minor": 0,
  "metadata": {
    "colab": {
      "provenance": []
    },
    "kernelspec": {
      "name": "python3",
      "display_name": "Python 3"
    },
    "language_info": {
      "name": "python"
    }
  },
  "cells": [
    {
      "cell_type": "markdown",
      "source": [
        "# **Machine Learning Techniques for Task Failure Prediction in Cloud Data Centers**\n",
        "\n",
        "###**[OR]**\n",
        "\n",
        "# **Cloud Data Centres Task failure prediction using machine learning techniques**"
      ],
      "metadata": {
        "id": "3onAPILV5wr0"
      }
    },
    {
      "cell_type": "code",
      "source": [
        "import numpy as np\n",
        "import pandas as pd\n",
        "import seaborn as sns\n",
        "import matplotlib.pyplot as plt\n",
        "from sklearn.preprocessing import StandardScaler\n",
        "from sklearn import metrics\n",
        "from sklearn.metrics import confusion_matrix\n",
        "from sklearn.model_selection import cross_val_score\n",
        "from sklearn.metrics import classification_report\n",
        "from sklearn.metrics import accuracy_score\n",
        "from sklearn.model_selection import train_test_split"
      ],
      "metadata": {
        "id": "iKgarR4srKXG"
      },
      "execution_count": null,
      "outputs": []
    },
    {
      "cell_type": "code",
      "source": [
        "train_df= pd.read_csv(\"/content/train_data.csv\")"
      ],
      "metadata": {
        "id": "R4MmSydxrr5l"
      },
      "execution_count": null,
      "outputs": []
    },
    {
      "cell_type": "code",
      "source": [
        "train_df.info()"
      ],
      "metadata": {
        "colab": {
          "base_uri": "https://localhost:8080/"
        },
        "id": "Z6aTsoydsEpD",
        "outputId": "befe454a-20c5-4c3d-eea7-ce8f133cc064"
      },
      "execution_count": null,
      "outputs": [
        {
          "output_type": "stream",
          "name": "stdout",
          "text": [
            "<class 'pandas.core.frame.DataFrame'>\n",
            "RangeIndex: 20000 entries, 0 to 19999\n",
            "Data columns (total 6 columns):\n",
            " #   Column        Non-Null Count  Dtype  \n",
            "---  ------        --------------  -----  \n",
            " 0   jobid         20000 non-null  object \n",
            " 1   memory        20000 non-null  float64\n",
            " 2   networklog10  20000 non-null  float64\n",
            " 3   localIOlog10  20000 non-null  float64\n",
            " 4   NFSIOlog10    20000 non-null  float64\n",
            " 5   failed        20000 non-null  int64  \n",
            "dtypes: float64(4), int64(1), object(1)\n",
            "memory usage: 937.6+ KB\n"
          ]
        }
      ]
    },
    {
      "cell_type": "code",
      "source": [
        "train_df.head()"
      ],
      "metadata": {
        "colab": {
          "base_uri": "https://localhost:8080/",
          "height": 206
        },
        "id": "tIZIKWf22_za",
        "outputId": "bf7cfa6d-e0c1-43b9-944b-a0580f5ca8c1"
      },
      "execution_count": null,
      "outputs": [
        {
          "output_type": "execute_result",
          "data": {
            "text/plain": [
              "          jobid    memory  networklog10  localIOlog10  NFSIOlog10  failed\n",
              "0  jobID1634295   44.3904       -1.0262        0.8033     -3.0000       0\n",
              "1  jobID2033452   31.5839       -1.4608       -0.6080     -2.9967       0\n",
              "2  jobID2068800  154.4610       -0.5508       -0.3637     -3.0000       0\n",
              "3    jobID78826   71.8570        3.5701       -0.1281      2.3040       0\n",
              "4  jobID2935014   30.0370        3.3094       -0.9463     -3.0000       0"
            ],
            "text/html": [
              "\n",
              "  <div id=\"df-2b1e15dd-f919-47e3-ad17-fa264ac45015\">\n",
              "    <div class=\"colab-df-container\">\n",
              "      <div>\n",
              "<style scoped>\n",
              "    .dataframe tbody tr th:only-of-type {\n",
              "        vertical-align: middle;\n",
              "    }\n",
              "\n",
              "    .dataframe tbody tr th {\n",
              "        vertical-align: top;\n",
              "    }\n",
              "\n",
              "    .dataframe thead th {\n",
              "        text-align: right;\n",
              "    }\n",
              "</style>\n",
              "<table border=\"1\" class=\"dataframe\">\n",
              "  <thead>\n",
              "    <tr style=\"text-align: right;\">\n",
              "      <th></th>\n",
              "      <th>jobid</th>\n",
              "      <th>memory</th>\n",
              "      <th>networklog10</th>\n",
              "      <th>localIOlog10</th>\n",
              "      <th>NFSIOlog10</th>\n",
              "      <th>failed</th>\n",
              "    </tr>\n",
              "  </thead>\n",
              "  <tbody>\n",
              "    <tr>\n",
              "      <th>0</th>\n",
              "      <td>jobID1634295</td>\n",
              "      <td>44.3904</td>\n",
              "      <td>-1.0262</td>\n",
              "      <td>0.8033</td>\n",
              "      <td>-3.0000</td>\n",
              "      <td>0</td>\n",
              "    </tr>\n",
              "    <tr>\n",
              "      <th>1</th>\n",
              "      <td>jobID2033452</td>\n",
              "      <td>31.5839</td>\n",
              "      <td>-1.4608</td>\n",
              "      <td>-0.6080</td>\n",
              "      <td>-2.9967</td>\n",
              "      <td>0</td>\n",
              "    </tr>\n",
              "    <tr>\n",
              "      <th>2</th>\n",
              "      <td>jobID2068800</td>\n",
              "      <td>154.4610</td>\n",
              "      <td>-0.5508</td>\n",
              "      <td>-0.3637</td>\n",
              "      <td>-3.0000</td>\n",
              "      <td>0</td>\n",
              "    </tr>\n",
              "    <tr>\n",
              "      <th>3</th>\n",
              "      <td>jobID78826</td>\n",
              "      <td>71.8570</td>\n",
              "      <td>3.5701</td>\n",
              "      <td>-0.1281</td>\n",
              "      <td>2.3040</td>\n",
              "      <td>0</td>\n",
              "    </tr>\n",
              "    <tr>\n",
              "      <th>4</th>\n",
              "      <td>jobID2935014</td>\n",
              "      <td>30.0370</td>\n",
              "      <td>3.3094</td>\n",
              "      <td>-0.9463</td>\n",
              "      <td>-3.0000</td>\n",
              "      <td>0</td>\n",
              "    </tr>\n",
              "  </tbody>\n",
              "</table>\n",
              "</div>\n",
              "      <button class=\"colab-df-convert\" onclick=\"convertToInteractive('df-2b1e15dd-f919-47e3-ad17-fa264ac45015')\"\n",
              "              title=\"Convert this dataframe to an interactive table.\"\n",
              "              style=\"display:none;\">\n",
              "        \n",
              "  <svg xmlns=\"http://www.w3.org/2000/svg\" height=\"24px\"viewBox=\"0 0 24 24\"\n",
              "       width=\"24px\">\n",
              "    <path d=\"M0 0h24v24H0V0z\" fill=\"none\"/>\n",
              "    <path d=\"M18.56 5.44l.94 2.06.94-2.06 2.06-.94-2.06-.94-.94-2.06-.94 2.06-2.06.94zm-11 1L8.5 8.5l.94-2.06 2.06-.94-2.06-.94L8.5 2.5l-.94 2.06-2.06.94zm10 10l.94 2.06.94-2.06 2.06-.94-2.06-.94-.94-2.06-.94 2.06-2.06.94z\"/><path d=\"M17.41 7.96l-1.37-1.37c-.4-.4-.92-.59-1.43-.59-.52 0-1.04.2-1.43.59L10.3 9.45l-7.72 7.72c-.78.78-.78 2.05 0 2.83L4 21.41c.39.39.9.59 1.41.59.51 0 1.02-.2 1.41-.59l7.78-7.78 2.81-2.81c.8-.78.8-2.07 0-2.86zM5.41 20L4 18.59l7.72-7.72 1.47 1.35L5.41 20z\"/>\n",
              "  </svg>\n",
              "      </button>\n",
              "      \n",
              "  <style>\n",
              "    .colab-df-container {\n",
              "      display:flex;\n",
              "      flex-wrap:wrap;\n",
              "      gap: 12px;\n",
              "    }\n",
              "\n",
              "    .colab-df-convert {\n",
              "      background-color: #E8F0FE;\n",
              "      border: none;\n",
              "      border-radius: 50%;\n",
              "      cursor: pointer;\n",
              "      display: none;\n",
              "      fill: #1967D2;\n",
              "      height: 32px;\n",
              "      padding: 0 0 0 0;\n",
              "      width: 32px;\n",
              "    }\n",
              "\n",
              "    .colab-df-convert:hover {\n",
              "      background-color: #E2EBFA;\n",
              "      box-shadow: 0px 1px 2px rgba(60, 64, 67, 0.3), 0px 1px 3px 1px rgba(60, 64, 67, 0.15);\n",
              "      fill: #174EA6;\n",
              "    }\n",
              "\n",
              "    [theme=dark] .colab-df-convert {\n",
              "      background-color: #3B4455;\n",
              "      fill: #D2E3FC;\n",
              "    }\n",
              "\n",
              "    [theme=dark] .colab-df-convert:hover {\n",
              "      background-color: #434B5C;\n",
              "      box-shadow: 0px 1px 3px 1px rgba(0, 0, 0, 0.15);\n",
              "      filter: drop-shadow(0px 1px 2px rgba(0, 0, 0, 0.3));\n",
              "      fill: #FFFFFF;\n",
              "    }\n",
              "  </style>\n",
              "\n",
              "      <script>\n",
              "        const buttonEl =\n",
              "          document.querySelector('#df-2b1e15dd-f919-47e3-ad17-fa264ac45015 button.colab-df-convert');\n",
              "        buttonEl.style.display =\n",
              "          google.colab.kernel.accessAllowed ? 'block' : 'none';\n",
              "\n",
              "        async function convertToInteractive(key) {\n",
              "          const element = document.querySelector('#df-2b1e15dd-f919-47e3-ad17-fa264ac45015');\n",
              "          const dataTable =\n",
              "            await google.colab.kernel.invokeFunction('convertToInteractive',\n",
              "                                                     [key], {});\n",
              "          if (!dataTable) return;\n",
              "\n",
              "          const docLinkHtml = 'Like what you see? Visit the ' +\n",
              "            '<a target=\"_blank\" href=https://colab.research.google.com/notebooks/data_table.ipynb>data table notebook</a>'\n",
              "            + ' to learn more about interactive tables.';\n",
              "          element.innerHTML = '';\n",
              "          dataTable['output_type'] = 'display_data';\n",
              "          await google.colab.output.renderOutput(dataTable, element);\n",
              "          const docLink = document.createElement('div');\n",
              "          docLink.innerHTML = docLinkHtml;\n",
              "          element.appendChild(docLink);\n",
              "        }\n",
              "      </script>\n",
              "    </div>\n",
              "  </div>\n",
              "  "
            ]
          },
          "metadata": {},
          "execution_count": 325
        }
      ]
    },
    {
      "cell_type": "code",
      "source": [
        "#plt.figure(figsize=(16, 6))\n",
        "sns.heatmap(train_df.corr(), annot=True)"
      ],
      "metadata": {
        "colab": {
          "base_uri": "https://localhost:8080/",
          "height": 345
        },
        "id": "jy4ll1ppsU2W",
        "outputId": "ca1d98bb-d582-4e63-9e1d-a9d48c6f3284"
      },
      "execution_count": null,
      "outputs": [
        {
          "output_type": "execute_result",
          "data": {
            "text/plain": [
              "<AxesSubplot:>"
            ]
          },
          "metadata": {},
          "execution_count": 326
        },
        {
          "output_type": "display_data",
          "data": {
            "text/plain": [
              "<Figure size 432x288 with 2 Axes>"
            ],
            "image/png": "[encoded data removed]"
          },
          "metadata": {
            "needs_background": "light"
          }
        }
      ]
    },
    {
      "cell_type": "code",
      "source": [
        "print(train_df.shape)"
      ],
      "metadata": {
        "colab": {
          "base_uri": "https://localhost:8080/"
        },
        "id": "6p35ran5sNm2",
        "outputId": "fa5cf7a5-4a2c-471c-d22b-fda18569f758"
      },
      "execution_count": null,
      "outputs": [
        {
          "output_type": "stream",
          "name": "stdout",
          "text": [
            "(20000, 6)\n"
          ]
        }
      ]
    },
    {
      "cell_type": "code",
      "execution_count": null,
      "metadata": {
        "id": "A3R_X3IXkpfr",
        "colab": {
          "base_uri": "https://localhost:8080/",
          "height": 296
        },
        "outputId": "5df61be3-c655-410e-ba31-103d85fd9776"
      },
      "outputs": [
        {
          "output_type": "execute_result",
          "data": {
            "text/plain": [
              "<AxesSubplot:xlabel='failed', ylabel='count'>"
            ]
          },
          "metadata": {},
          "execution_count": 328
        },
        {
          "output_type": "display_data",
          "data": {
            "text/plain": [
              "<Figure size 432x288 with 1 Axes>"
            ],
            "image/png": "[encoded data removed]"
          },
          "metadata": {
            "needs_background": "light"
          }
        }
      ],
      "source": [
        "sns.countplot(x=\"failed\", data=train_df)"
      ]
    },
    {
      "cell_type": "code",
      "source": [
        "x=train_df.iloc[:,1:5]\n",
        "y=train_df.iloc[:,5]"
      ],
      "metadata": {
        "id": "dba-Ucl7shMx"
      },
      "execution_count": null,
      "outputs": []
    },
    {
      "cell_type": "markdown",
      "source": [
        "# **Data splitting**"
      ],
      "metadata": {
        "id": "0za0qEpwsab-"
      }
    },
    {
      "cell_type": "code",
      "source": [
        "#x_train, x_test, y_train, y_test =train_test_split(x,y,random_state=1)\n",
        "x_train,x_test,y_train,y_test=train_test_split(x,y,test_size=0.2,random_state=0)\n",
        "x_train.shape, x_test.shape, y_train.shape, y_test.shape"
      ],
      "metadata": {
        "id": "ux093cKzuGeJ",
        "colab": {
          "base_uri": "https://localhost:8080/"
        },
        "outputId": "105b50f4-b83f-4505-b12b-43e7de4c1e2c"
      },
      "execution_count": null,
      "outputs": [
        {
          "output_type": "execute_result",
          "data": {
            "text/plain": [
              "((16000, 4), (4000, 4), (16000,), (4000,))"
            ]
          },
          "metadata": {},
          "execution_count": 330
        }
      ]
    },
    {
      "cell_type": "markdown",
      "source": [
        "# **Model Accessing**"
      ],
      "metadata": {
        "id": "jXl8s-pNs1p8"
      }
    },
    {
      "cell_type": "code",
      "source": [
        "from sklearn.linear_model import LogisticRegression\n",
        "from sklearn.tree import DecisionTreeClassifier\n",
        "from sklearn.ensemble import RandomForestClassifier, VotingClassifier\n",
        "from sklearn.neighbors import KNeighborsClassifier\n",
        "from sklearn.naive_bayes import GaussianNB\n",
        "from sklearn.svm import SVC\n",
        "from sklearn import tree\n",
        "from sklearn import metrics"
      ],
      "metadata": {
        "id": "rQkQ3AfUqOnT"
      },
      "execution_count": null,
      "outputs": []
    },
    {
      "cell_type": "code",
      "source": [
        "#RANDOM FOREST\n",
        "RF = RandomForestClassifier()\n",
        "RF.fit(x_train, y_train)\n",
        "predictions = RF.predict(x_test)\n",
        "print(\"*Confusion Matrix for RF: \")\n",
        "print(confusion_matrix(y_test, predictions))\n",
        "val1 = accuracy_score(y_test, predictions) *100\n",
        "print(val1)\n",
        "print(\"*Classification Report for RF: \")\n",
        "print(classification_report(y_test, predictions))"
      ],
      "metadata": {
        "colab": {
          "base_uri": "https://localhost:8080/"
        },
        "id": "s4sYLHOemkUx",
        "outputId": "130657a2-dd5e-44da-d821-2e21fc715de9"
      },
      "execution_count": null,
      "outputs": [
        {
          "output_type": "stream",
          "name": "stdout",
          "text": [
            "*Confusion Matrix for RF: \n",
            "[[3672   28]\n",
            " [ 187  113]]\n",
            "94.625\n",
            "*Classification Report for RF: \n",
            "              precision    recall  f1-score   support\n",
            "\n",
            "           0       0.95      0.99      0.97      3700\n",
            "           1       0.80      0.38      0.51       300\n",
            "\n",
            "    accuracy                           0.95      4000\n",
            "   macro avg       0.88      0.68      0.74      4000\n",
            "weighted avg       0.94      0.95      0.94      4000\n",
            "\n"
          ]
        }
      ]
    },
    {
      "cell_type": "code",
      "source": [
        "#LOGISTIC REGRESSSION\n",
        "log = LogisticRegression()\n",
        "log.fit(x_train, y_train)\n",
        "predictions = log.predict(x_test)\n",
        "print(\"*Confusion Matrix for log: \")\n",
        "print(confusion_matrix(y_test, predictions))\n",
        "val2 = accuracy_score(y_test, predictions) *100\n",
        "print(val2)\n",
        "print(\"*Classification Report for log: \")\n",
        "print(classification_report(y_test, predictions))"
      ],
      "metadata": {
        "id": "RhHFqI3gpnB_",
        "colab": {
          "base_uri": "https://localhost:8080/"
        },
        "outputId": "5fbb8c4e-13ec-4320-a6cf-1e9f1bd411d5"
      },
      "execution_count": null,
      "outputs": [
        {
          "output_type": "stream",
          "name": "stdout",
          "text": [
            "*Confusion Matrix for log: \n",
            "[[3700    0]\n",
            " [ 300    0]]\n",
            "92.5\n",
            "*Classification Report for log: \n",
            "              precision    recall  f1-score   support\n",
            "\n",
            "           0       0.93      1.00      0.96      3700\n",
            "           1       0.00      0.00      0.00       300\n",
            "\n",
            "    accuracy                           0.93      4000\n",
            "   macro avg       0.46      0.50      0.48      4000\n",
            "weighted avg       0.86      0.93      0.89      4000\n",
            "\n"
          ]
        },
        {
          "output_type": "stream",
          "name": "stderr",
          "text": [
            "/usr/local/lib/python3.8/dist-packages/sklearn/metrics/_classification.py:1344: UndefinedMetricWarning: Precision and F-score are ill-defined and being set to 0.0 in labels with no predicted samples. Use `zero_division` parameter to control this behavior.\n",
            "  _warn_prf(average, modifier, msg_start, len(result))\n",
            "/usr/local/lib/python3.8/dist-packages/sklearn/metrics/_classification.py:1344: UndefinedMetricWarning: Precision and F-score are ill-defined and being set to 0.0 in labels with no predicted samples. Use `zero_division` parameter to control this behavior.\n",
            "  _warn_prf(average, modifier, msg_start, len(result))\n",
            "/usr/local/lib/python3.8/dist-packages/sklearn/metrics/_classification.py:1344: UndefinedMetricWarning: Precision and F-score are ill-defined and being set to 0.0 in labels with no predicted samples. Use `zero_division` parameter to control this behavior.\n",
            "  _warn_prf(average, modifier, msg_start, len(result))\n"
          ]
        }
      ]
    },
    {
      "cell_type": "code",
      "source": [
        "#DECISION TREE\n",
        "DT = tree.DecisionTreeClassifier()\n",
        "DT.fit(x_train, y_train)\n",
        "predictions = DT.predict(x_test)\n",
        "print(\"*Confusion Matrix for DT: \")\n",
        "print(confusion_matrix(y_test, predictions))\n",
        "val3 = accuracy_score(y_test, predictions) *100\n",
        "print(val3)\n",
        "print(\"*Classification Report for DT: \")\n",
        "print(classification_report(y_test, predictions))"
      ],
      "metadata": {
        "id": "PSs9Ze5Nqe02",
        "colab": {
          "base_uri": "https://localhost:8080/"
        },
        "outputId": "bc31d6a2-6653-4f44-f4d5-e167d647ba60"
      },
      "execution_count": null,
      "outputs": [
        {
          "output_type": "stream",
          "name": "stdout",
          "text": [
            "*Confusion Matrix for DT: \n",
            "[[3500  200]\n",
            " [ 166  134]]\n",
            "90.85\n",
            "*Classification Report for DT: \n",
            "              precision    recall  f1-score   support\n",
            "\n",
            "           0       0.95      0.95      0.95      3700\n",
            "           1       0.40      0.45      0.42       300\n",
            "\n",
            "    accuracy                           0.91      4000\n",
            "   macro avg       0.68      0.70      0.69      4000\n",
            "weighted avg       0.91      0.91      0.91      4000\n",
            "\n"
          ]
        }
      ]
    },
    {
      "cell_type": "code",
      "source": [
        "#NAIVE BAYES\n",
        "nb = GaussianNB()\n",
        "nb.fit(x_train,y_train)\n",
        "predictions = nb.predict(x_test)\n",
        "print(\"*Confusion Matrix for GNB: \")\n",
        "print(confusion_matrix(y_test, predictions))\n",
        "val4 = accuracy_score(y_test, predictions) *100\n",
        "print(val4)\n",
        "print(\"*Classification Report for GNB: \")\n",
        "print(classification_report(y_test, predictions))"
      ],
      "metadata": {
        "id": "y431ZdnUsPUF",
        "colab": {
          "base_uri": "https://localhost:8080/"
        },
        "outputId": "4aadd447-6e97-4c9f-fe95-1070e88750b1"
      },
      "execution_count": null,
      "outputs": [
        {
          "output_type": "stream",
          "name": "stdout",
          "text": [
            "*Confusion Matrix for GNB: \n",
            "[[3700    0]\n",
            " [ 300    0]]\n",
            "92.5\n",
            "*Classification Report for GNB: \n",
            "              precision    recall  f1-score   support\n",
            "\n",
            "           0       0.93      1.00      0.96      3700\n",
            "           1       0.00      0.00      0.00       300\n",
            "\n",
            "    accuracy                           0.93      4000\n",
            "   macro avg       0.46      0.50      0.48      4000\n",
            "weighted avg       0.86      0.93      0.89      4000\n",
            "\n"
          ]
        },
        {
          "output_type": "stream",
          "name": "stderr",
          "text": [
            "/usr/local/lib/python3.8/dist-packages/sklearn/metrics/_classification.py:1344: UndefinedMetricWarning: Precision and F-score are ill-defined and being set to 0.0 in labels with no predicted samples. Use `zero_division` parameter to control this behavior.\n",
            "  _warn_prf(average, modifier, msg_start, len(result))\n",
            "/usr/local/lib/python3.8/dist-packages/sklearn/metrics/_classification.py:1344: UndefinedMetricWarning: Precision and F-score are ill-defined and being set to 0.0 in labels with no predicted samples. Use `zero_division` parameter to control this behavior.\n",
            "  _warn_prf(average, modifier, msg_start, len(result))\n",
            "/usr/local/lib/python3.8/dist-packages/sklearn/metrics/_classification.py:1344: UndefinedMetricWarning: Precision and F-score are ill-defined and being set to 0.0 in labels with no predicted samples. Use `zero_division` parameter to control this behavior.\n",
            "  _warn_prf(average, modifier, msg_start, len(result))\n"
          ]
        }
      ]
    },
    {
      "cell_type": "code",
      "source": [
        "#KNN\n",
        "neigh = KNeighborsClassifier(n_neighbors=2)\n",
        "neigh.fit(x_train,y_train)\n",
        "predictions = neigh.predict(x_test)\n",
        "print(\"*Confusion Matrix for KNN: \")\n",
        "print(confusion_matrix(y_test, predictions))\n",
        "val5 = accuracy_score(y_test, predictions) *100\n",
        "print(val5)\n",
        "print(\"*Classification Report for KNN: \")\n",
        "print(classification_report(y_test, predictions))"
      ],
      "metadata": {
        "id": "8Nfa7Xo9t37w",
        "colab": {
          "base_uri": "https://localhost:8080/"
        },
        "outputId": "6235b1d6-237d-4e6a-f9a0-0ae12138ce4f"
      },
      "execution_count": null,
      "outputs": [
        {
          "output_type": "stream",
          "name": "stdout",
          "text": [
            "*Confusion Matrix for KNN: \n",
            "[[3670   30]\n",
            " [ 191  109]]\n",
            "94.475\n",
            "*Classification Report for KNN: \n",
            "              precision    recall  f1-score   support\n",
            "\n",
            "           0       0.95      0.99      0.97      3700\n",
            "           1       0.78      0.36      0.50       300\n",
            "\n",
            "    accuracy                           0.94      4000\n",
            "   macro avg       0.87      0.68      0.73      4000\n",
            "weighted avg       0.94      0.94      0.94      4000\n",
            "\n"
          ]
        }
      ]
    },
    {
      "cell_type": "code",
      "source": [
        "#SVM\n",
        "svm = SVC()\n",
        "svm.fit(x_train,y_train)\n",
        "predictions = svm.predict(x_test)\n",
        "print(\"*Confusion Matrix for SVC: \")\n",
        "print(confusion_matrix(y_test, predictions))\n",
        "val6 = accuracy_score(y_test, predictions) *100\n",
        "print(val6)\n",
        "print(\"*Classification Report for SVC: \")\n",
        "print(classification_report(y_test, predictions))"
      ],
      "metadata": {
        "id": "6DbxJ-WRxmkR",
        "colab": {
          "base_uri": "https://localhost:8080/"
        },
        "outputId": "0c6f39dc-d5d7-4907-a808-995042e29412"
      },
      "execution_count": null,
      "outputs": [
        {
          "output_type": "stream",
          "name": "stdout",
          "text": [
            "*Confusion Matrix for SVC: \n",
            "[[3700    0]\n",
            " [ 300    0]]\n",
            "92.5\n",
            "*Classification Report for SVC: \n",
            "              precision    recall  f1-score   support\n",
            "\n",
            "           0       0.93      1.00      0.96      3700\n",
            "           1       0.00      0.00      0.00       300\n",
            "\n",
            "    accuracy                           0.93      4000\n",
            "   macro avg       0.46      0.50      0.48      4000\n",
            "weighted avg       0.86      0.93      0.89      4000\n",
            "\n"
          ]
        },
        {
          "output_type": "stream",
          "name": "stderr",
          "text": [
            "/usr/local/lib/python3.8/dist-packages/sklearn/metrics/_classification.py:1344: UndefinedMetricWarning: Precision and F-score are ill-defined and being set to 0.0 in labels with no predicted samples. Use `zero_division` parameter to control this behavior.\n",
            "  _warn_prf(average, modifier, msg_start, len(result))\n",
            "/usr/local/lib/python3.8/dist-packages/sklearn/metrics/_classification.py:1344: UndefinedMetricWarning: Precision and F-score are ill-defined and being set to 0.0 in labels with no predicted samples. Use `zero_division` parameter to control this behavior.\n",
            "  _warn_prf(average, modifier, msg_start, len(result))\n",
            "/usr/local/lib/python3.8/dist-packages/sklearn/metrics/_classification.py:1344: UndefinedMetricWarning: Precision and F-score are ill-defined and being set to 0.0 in labels with no predicted samples. Use `zero_division` parameter to control this behavior.\n",
            "  _warn_prf(average, modifier, msg_start, len(result))\n"
          ]
        }
      ]
    },
    {
      "cell_type": "code",
      "source": [
        "#VOTING CLASSIFIER\n",
        "clf1 = SVC(gamma='auto')\n",
        "clf2 = RandomForestClassifier(n_estimators=50, random_state=1)\n",
        "clf3 = DecisionTreeClassifier()\n",
        "eclf1 = VotingClassifier(estimators=[('lr', clf1), ('rf', clf2), ('dt', clf3)], voting='hard')\n",
        "eclf1.fit(x_train,y_train)\n",
        "predictions = eclf1.predict(x_test)\n",
        "print(\"*Confusion Matrix for Voting Classifier: \")\n",
        "print(confusion_matrix(y_test, predictions))"
      ],
      "metadata": {
        "id": "3IGWYPf1g95h",
        "colab": {
          "base_uri": "https://localhost:8080/"
        },
        "outputId": "249a001f-dac4-474d-c722-232c0e1e5ed8"
      },
      "execution_count": null,
      "outputs": [
        {
          "output_type": "stream",
          "name": "stdout",
          "text": [
            "*Confusion Matrix for Voting Classifier: \n",
            "[[3676   24]\n",
            " [ 194  106]]\n"
          ]
        }
      ]
    },
    {
      "cell_type": "code",
      "source": [
        "val7 = accuracy_score(y_test, predictions) *100\n",
        "print(val7)\n",
        "print(\"*Classification Report for Voting Classifier: \")\n",
        "print(classification_report(y_test, predictions))"
      ],
      "metadata": {
        "id": "4b_AsaRphx0X",
        "colab": {
          "base_uri": "https://localhost:8080/"
        },
        "outputId": "ffa47f12-fab3-4f82-964a-43b24b5564ab"
      },
      "execution_count": null,
      "outputs": [
        {
          "output_type": "stream",
          "name": "stdout",
          "text": [
            "94.55\n",
            "*Classification Report for Voting Classifier: \n",
            "              precision    recall  f1-score   support\n",
            "\n",
            "           0       0.95      0.99      0.97      3700\n",
            "           1       0.82      0.35      0.49       300\n",
            "\n",
            "    accuracy                           0.95      4000\n",
            "   macro avg       0.88      0.67      0.73      4000\n",
            "weighted avg       0.94      0.95      0.94      4000\n",
            "\n"
          ]
        }
      ]
    },
    {
      "cell_type": "markdown",
      "source": [
        "# **Models Comparision**"
      ],
      "metadata": {
        "id": "s5jtPnpgyyBW"
      }
    },
    {
      "cell_type": "code",
      "source": [
        "score = [val1,val2,val3,val4,val5,val6,val7]\n",
        "#make variabel for save the result and to show it\n",
        "classifier = ('Random Forest','Logistic Regression','Decision Tree','Gaussian Naive Bayes','KNN', 'Support vector machine','Voting Classifier')\n",
        "y_pos = np.arange(len(classifier))\n",
        "print(y_pos)\n",
        "print(score)"
      ],
      "metadata": {
        "id": "4KP0NeoXuUGG",
        "colab": {
          "base_uri": "https://localhost:8080/"
        },
        "outputId": "b1824ca5-737b-4fa6-ac0b-0c9f6d572a76"
      },
      "execution_count": null,
      "outputs": [
        {
          "output_type": "stream",
          "name": "stdout",
          "text": [
            "[0 1 2 3 4 5 6]\n",
            "[94.625, 92.5, 90.85, 92.5, 94.475, 92.5, 94.55]\n"
          ]
        }
      ]
    },
    {
      "cell_type": "code",
      "source": [
        "plt.barh(y_pos, score, align='center', alpha=0.5,color='blue')\n",
        "plt.yticks(y_pos, classifier)\n",
        "plt.xlabel('Accuracy Score')\n",
        "plt.xlim(0,100)\n",
        "plt.title('Performance')\n",
        "for index, value in enumerate(score):\n",
        "    plt.text(value, index, str(value))\n",
        "plt.show()"
      ],
      "metadata": {
        "id": "gz3l0k0QvLRF",
        "colab": {
          "base_uri": "https://localhost:8080/",
          "height": 295
        },
        "outputId": "38c39c42-bb15-4122-dc88-a4a611f208bb"
      },
      "execution_count": null,
      "outputs": [
        {
          "output_type": "display_data",
          "data": {
            "text/plain": [
              "<Figure size 432x288 with 1 Axes>"
            ],
            "image/png": "[encoded data removed]"
          },
          "metadata": {
            "needs_background": "light"
          }
        }
      ]
    }
  ]
}